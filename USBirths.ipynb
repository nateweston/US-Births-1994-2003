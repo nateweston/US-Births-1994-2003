{
 "cells": [
  {
   "cell_type": "markdown",
   "metadata": {},
   "source": [
    "# U.S. Birth Information from 1994 to 2003\n",
    "- I will be doing some analysis on a dataset from FiveThirtyEight that contains info about US births from 1994-2003.\n",
    "- It contains the following information in order: year, month (1 to 12), date_of_month (1 to 31), day_of_week (1 to 7), and births (number of births).\n",
    "- First, I will read in the CSV file and explore it."
   ]
  },
  {
   "cell_type": "code",
   "execution_count": 2,
   "metadata": {},
   "outputs": [
    {
     "name": "stdout",
     "output_type": "stream",
     "text": [
      "['year,month,date_of_month,day_of_week,births', '1994,1,1,6,8096', '1994,1,2,7,7772', '1994,1,3,1,10142', '1994,1,4,2,11248', '1994,1,5,3,11053', '1994,1,6,4,11406', '1994,1,7,5,11251', '1994,1,8,6,8653']\n"
     ]
    }
   ],
   "source": [
    "a = open(\"US_births_1994-2003_CDC_NCHS.csv\", 'r')\n",
    "birth_data = a.read()\n",
    "split_birth_data = birth_data.split(\"\\n\")\n",
    "print(split_birth_data[0:9])"
   ]
  },
  {
   "cell_type": "markdown",
   "metadata": {},
   "source": [
    "### Observations \n",
    "- The datase is a list of strings, where the data points in each string are separated by a comma.\n",
    "- The data must be converted into a list of lists, where each nested list contains integer values."
   ]
  },
  {
   "cell_type": "code",
   "execution_count": 3,
   "metadata": {},
   "outputs": [
    {
     "name": "stdout",
     "output_type": "stream",
     "text": [
      "[[1994, 1, 1, 6, 8096], [1994, 1, 2, 7, 7772], [1994, 1, 3, 1, 10142], [1994, 1, 4, 2, 11248], [1994, 1, 5, 3, 11053], [1994, 1, 6, 4, 11406], [1994, 1, 7, 5, 11251], [1994, 1, 8, 6, 8653], [1994, 1, 9, 7, 7910]]\n"
     ]
    }
   ],
   "source": [
    "def read_csv(csv_file):\n",
    "    a = open(csv_file, 'r')\n",
    "    birth_data = a.read()\n",
    "    split_data = birth_data.split(\"\\n\")\n",
    "    string_list = split_data[1:len(split_data)]\n",
    "    final_list = []\n",
    "    for row in string_list:\n",
    "        int_fields = []\n",
    "        string_fields = row.split(',')\n",
    "        for item in string_fields:\n",
    "            int_fields.append(int(item))\n",
    "        final_list.append(int_fields)   \n",
    "    return final_list\n",
    "\n",
    "cdc_list = read_csv(\"US_births_1994-2003_CDC_NCHS.csv\")\n",
    "print(cdc_list[0:9])"
   ]
  },
  {
   "cell_type": "markdown",
   "metadata": {},
   "source": [
    "# read_csv Function\n",
    "- Takes a string representing the file name of the CSV file.\n",
    "- Reads the file into a string, splits the string on the newline character, removes the header row, and assigns the resulting list to string_list.\n",
    "- Uses a for loop to iterate over string_list, splits each row on the comma delimter, and assigns the resulting list to a list called int_fields. Then it converts the values in string_fields to integers and appends them to int_fields, then appends int_fields to final_list. It returns final_list."
   ]
  },
  {
   "cell_type": "code",
   "execution_count": 8,
   "metadata": {},
   "outputs": [
    {
     "name": "stdout",
     "output_type": "stream",
     "text": [
      "{1: 3232517, 2: 3018140, 3: 3322069, 4: 3185314, 5: 3350907, 6: 3296530, 7: 3498783, 8: 3525858, 9: 3439698, 10: 3378814, 11: 3171647, 12: 3301860}\n"
     ]
    }
   ],
   "source": [
    "def month_births(lst_lsts):\n",
    "    births_per_month = {}\n",
    "    for rows in lst_lsts:\n",
    "        if rows[1] in births_per_month:\n",
    "            births_per_month[rows[1]] = births_per_month[rows[1]] + rows[4]\n",
    "        else:\n",
    "            births_per_month[rows[1]] = rows[4]\n",
    "    return births_per_month\n",
    "\n",
    "cdc_month_births = month_births(cdc_list)\n",
    "print(cdc_month_births)"
   ]
  },
  {
   "cell_type": "markdown",
   "metadata": {},
   "source": [
    "## month_births Function\n",
    "- This function calculates how many births occurred in each month.\n",
    "- First, I created an empty dictionary, births_per_month.\n",
    "- The month_births function loops over the lst_lsts argument, extracts the 'month' and 'birth' columns. If the month value already exists in births_per_month, the births value is added to that month in the diction. If the month value does not exist in the dictionary, it is created with the associated births value.\n",
    "- The function returns the births_per_month dictionary."
   ]
  },
  {
   "cell_type": "markdown",
   "metadata": {},
   "source": [
    "## month_births Function\n",
    "- This function calculates how many births occurred in each month.\n",
    "- First, I created an empty dictionary, births_per_month.\n",
    "- The month_births function loops over the lst_lsts argument, extracts the 'month' and 'birth' columns. If the month value already exists in births_per_month, the births value is added to that month in the dictionary. If the month value does not exist in the dictionary, it is created with the associated births value.\n",
    "- The function returns the births_per_month dictionary."
   ]
  },
  {
   "cell_type": "code",
   "execution_count": 9,
   "metadata": {},
   "outputs": [
    {
     "name": "stdout",
     "output_type": "stream",
     "text": [
      "{1: 5789166, 2: 6446196, 3: 6322855, 4: 6288429, 5: 6233657, 6: 4562111, 7: 4079723}\n"
     ]
    }
   ],
   "source": [
    "def dow_births(lst_lsts):\n",
    "    births_per_day = {}\n",
    "    for rows in lst_lsts:\n",
    "        if rows[3] in births_per_day:\n",
    "            births_per_day[rows[3]] = births_per_day[rows[3]] + rows[4]\n",
    "        else:\n",
    "            births_per_day[rows[3]] = rows[4]\n",
    "    return births_per_day\n",
    "\n",
    "cdc_day_births = dow_births(cdc_list)\n",
    "print(cdc_day_births)"
   ]
  },
  {
   "cell_type": "markdown",
   "metadata": {},
   "source": [
    "## dow_births Function\n",
    "- This function calculates the total number of births for each unique day of the week."
   ]
  },
  {
   "cell_type": "code",
   "execution_count": 12,
   "metadata": {},
   "outputs": [],
   "source": [
    "def calc_counts(data, column):\n",
    "    counts_per_column = {}\n",
    "    for rows in data:\n",
    "        if rows[column] in counts_per_column:\n",
    "            counts_per_column[rows[column]] = counts_per_column[rows[column]] + rows[4]\n",
    "        else:\n",
    "            counts_per_column[rows[column]] = rows[4]\n",
    "    return counts_per_column\n",
    "\n",
    "cdc_year_births = calc_counts(cdc_list, 0)\n",
    "cdc_month_births = calc_counts(cdc_list, 1)\n",
    "cdc_dom_births = calc_counts(cdc_list, 2)\n",
    "cdc_dow_births = calc_counts(cdc_list, 3)\n"
   ]
  },
  {
   "cell_type": "markdown",
   "metadata": {},
   "source": [
    "## calc_counts Function\n",
    "- This function takes two argumnents: 'data' and 'columns'\n",
    "- It returns a populated dictionary containing the total number of births for each unique value in the column at position 'column'."
   ]
  },
  {
   "cell_type": "code",
   "execution_count": 1,
   "metadata": {},
   "outputs": [
    {
     "name": "stdout",
     "output_type": "stream",
     "text": [
      "[2, 51]\n"
     ]
    }
   ],
   "source": [
    "dict = {'a':7, 'b':48, 'c':2, 'd':11, 'e':51}\n",
    "def min_max(dct):\n",
    "    max = 0\n",
    "    for item in dct:\n",
    "        if dct[item] > max:\n",
    "            max = dct[item]\n",
    "    min = max\n",
    "    for item in dct:\n",
    "        if dct[item] < min:\n",
    "            min = dct[item]\n",
    "    return [min, max]\n",
    "print(min_max(dict))\n",
    "\n",
    "\n",
    "        "
   ]
  },
  {
   "cell_type": "markdown",
   "metadata": {
    "collapsed": true
   },
   "source": [
    "## min_max Function\n",
    "- The min_max function takes a dictionary as an input and calculates the minimum and maximum values in that dictionary. "
   ]
  },
  {
   "cell_type": "code",
   "execution_count": null,
   "metadata": {
    "collapsed": true
   },
   "outputs": [],
   "source": []
  }
 ],
 "metadata": {
  "anaconda-cloud": {},
  "kernelspec": {
   "display_name": "Python 3",
   "language": "python",
   "name": "python3"
  },
  "language_info": {
   "codemirror_mode": {
    "name": "ipython",
    "version": 3
   },
   "file_extension": ".py",
   "mimetype": "text/x-python",
   "name": "python",
   "nbconvert_exporter": "python",
   "pygments_lexer": "ipython3",
   "version": "3.6.4"
  }
 },
 "nbformat": 4,
 "nbformat_minor": 1
}
